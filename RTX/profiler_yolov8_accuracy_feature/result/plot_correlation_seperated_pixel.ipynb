{
 "cells": [
  {
   "cell_type": "code",
   "execution_count": 19,
   "metadata": {},
   "outputs": [],
   "source": [
    "import json\n",
    "import matplotlib.pyplot as plt\n",
    "import numpy as np\n",
    "import os"
   ]
  },
  {
   "cell_type": "code",
   "execution_count": 20,
   "metadata": {},
   "outputs": [],
   "source": [
    "# Plot\n",
    "plot_directory = 'result/pixel'"
   ]
  },
  {
   "cell_type": "code",
   "execution_count": 21,
   "metadata": {},
   "outputs": [],
   "source": [
    "colors = [\n",
    "\t'#FF0000',\n",
    "\t'#00FFFF',\n",
    "\t'#0000FF',\n",
    "\t'#00008B',\n",
    "\t'#ADD8E6',\n",
    "\t'#800080',\n",
    "\t'#7FFFD4',\n",
    "\t'#008000',\n",
    "\t'#FF00FF',\n",
    "\t'#FFC0CB',\n",
    "\t'#C0C0C0',\n",
    "\t'#FFA500',\n",
    "\t'#000000',\n",
    "\t'#800000',\n",
    "]"
   ]
  },
  {
   "cell_type": "code",
   "execution_count": 22,
   "metadata": {},
   "outputs": [],
   "source": [
    "def load_json_file(file_path):\n",
    "\ttry:\n",
    "\t\twith open(file_path, 'r') as file:\n",
    "\t\t\tdata = json.load(file)\n",
    "\t\treturn data\n",
    "\t\n",
    "\texcept Exception as e:\n",
    "\t\tprint(f\"An error occurred while loading the JSON file: {e}\")\n",
    "\t\treturn None"
   ]
  },
  {
   "cell_type": "code",
   "execution_count": 23,
   "metadata": {},
   "outputs": [],
   "source": [
    "def extract_fpss(metric_list):\n",
    "\treturn list(metric_list[list(metric_list.keys())[0]][0]['metric'].keys())"
   ]
  },
  {
   "cell_type": "code",
   "execution_count": 24,
   "metadata": {},
   "outputs": [],
   "source": [
    "def to_accuracy_vector(accuracy_result_seq, fpss, type='F1'):\n",
    "\taccuracy_vector = []\n",
    "\tfor fps in fpss:\n",
    "\t\taccuracy_vector.append(accuracy_result_seq[fps][type])\n",
    "\t\n",
    "\treturn accuracy_vector"
   ]
  },
  {
   "cell_type": "code",
   "execution_count": 25,
   "metadata": {},
   "outputs": [],
   "source": [
    "def plot_scatter(xs, ys, x_label, y_label, title, fig_size=(8, 8)):\n",
    "\tplt.figure(figsize=fig_size)\n",
    "\tplt.scatter(xs, ys, c=colors[0], s=30, alpha=0.5)\n",
    "\tplt.title(title)\n",
    "\tplt.xlabel(x_label)\n",
    "\tplt.ylabel(y_label)\n",
    "\tplt.show()"
   ]
  },
  {
   "cell_type": "code",
   "execution_count": 26,
   "metadata": {},
   "outputs": [],
   "source": [
    "def plot_scatter_label(xs, ys, labels, x_label, y_label, title, fig_size=(8, 8)):\n",
    "\tplt.figure(figsize=fig_size)\n",
    "\tfor i in range(len(xs)):\n",
    "\t\tplt.scatter(xs[i], ys[i], c=colors[labels[i]], s=30, alpha=0.5)\n",
    "\tplt.title(title)\n",
    "\tplt.xlabel(x_label)\n",
    "\tplt.ylabel(y_label)\n",
    "\tplt.show()"
   ]
  },
  {
   "cell_type": "code",
   "execution_count": 27,
   "metadata": {},
   "outputs": [],
   "source": [
    "def filter_list_index(input_list, indices_to_remove):\n",
    "\treturn [item for i, item in enumerate(input_list) if i not in indices_to_remove]"
   ]
  },
  {
   "cell_type": "code",
   "execution_count": 28,
   "metadata": {},
   "outputs": [],
   "source": [
    "def round_float_to_sigfigs(number, sigfigs):\n",
    "\treturn round(number, sigfigs)"
   ]
  },
  {
   "cell_type": "code",
   "execution_count": 29,
   "metadata": {},
   "outputs": [],
   "source": [
    "def round_floats_to_sigfigs(input_list, sigfigs):\n",
    "\treturn [round(number, sigfigs) for number in input_list]"
   ]
  },
  {
   "cell_type": "code",
   "execution_count": 30,
   "metadata": {},
   "outputs": [],
   "source": [
    "def normalize_list(input_list):\n",
    "\t# Check if the list is not empty\n",
    "\tif not input_list:\n",
    "\t\treturn []\n",
    "\n",
    "\tmin_val = min(input_list)\n",
    "\tmax_val = max(input_list)\n",
    "\n",
    "\t# Handle the case where all elements in the list are the same\n",
    "\tif min_val == max_val:\n",
    "\t\treturn [0.5] * len(input_list)\n",
    "\n",
    "\treturn [(x - min_val) / (max_val - min_val) for x in input_list]\n"
   ]
  },
  {
   "cell_type": "markdown",
   "metadata": {},
   "source": [
    "## Plot"
   ]
  },
  {
   "cell_type": "code",
   "execution_count": 31,
   "metadata": {},
   "outputs": [],
   "source": [
    "FEATURE_TYPE = 'Pixel'"
   ]
  },
  {
   "cell_type": "code",
   "execution_count": 32,
   "metadata": {},
   "outputs": [],
   "source": [
    "plot_filenames = sorted(os.listdir(plot_directory))\n",
    "plot_video_names = sorted(list(set([f.split('_')[0] for f in plot_filenames])))"
   ]
  },
  {
   "cell_type": "code",
   "execution_count": 33,
   "metadata": {},
   "outputs": [],
   "source": [
    "fpss = extract_fpss(load_json_file(os.path.join(plot_directory, plot_video_names[0] + f\"_Accuracy_Result.json\")))"
   ]
  },
  {
   "cell_type": "code",
   "execution_count": 34,
   "metadata": {},
   "outputs": [],
   "source": [
    "accuracy_result = load_json_file(os.path.join(plot_directory, plot_video_names[0] + \"_Accuracy_Result.json\"))\n",
    "# [clip_result['metric']['1']['F1'] for clip_result in accuracy_result['2']]"
   ]
  },
  {
   "cell_type": "code",
   "execution_count": 35,
   "metadata": {},
   "outputs": [],
   "source": [
    "feature_result = load_json_file(os.path.join(plot_directory, plot_video_names[0] + f\"_Feature_{FEATURE_TYPE}_Result.json\"))\n",
    "# [clip_result['feature']['1'] for clip_result in feature_result['2']]"
   ]
  },
  {
   "cell_type": "code",
   "execution_count": 36,
   "metadata": {},
   "outputs": [
    {
     "name": "stdout",
     "output_type": "stream",
     "text": [
      "FPS: 1\n",
      "Average Corr Among All 4 Videos 0.28935840388648115\n",
      "FPS: 2\n",
      "Average Corr Among All 4 Videos 0.3665193539379963\n",
      "FPS: 3\n",
      "Average Corr Among All 4 Videos 0.331027098490512\n",
      "FPS: 5\n",
      "Average Corr Among All 4 Videos 0.30820735215504563\n",
      "FPS: 6\n",
      "Average Corr Among All 4 Videos 0.29104631676969306\n",
      "FPS: 10\n",
      "Average Corr Among All 4 Videos 0.23177244949148762\n",
      "FPS: 15\n",
      "Average Corr Among All 4 Videos 0.1766602708485514\n",
      "FPS: 30\n",
      "Average Corr Among All 4 Videos 0.12398393265801204\n"
     ]
    }
   ],
   "source": [
    "for fps in fpss:\n",
    "\tprint(f\"FPS: {fps}\")\n",
    "\t\n",
    "\tcorr_list = []\n",
    "\tfor v in plot_video_names:\n",
    "\t\tacc_list_video = []\n",
    "\t\tfea_list_video = []\n",
    "\n",
    "\t\taccuracy_result = load_json_file(os.path.join(plot_directory, v + \"_Accuracy_Result.json\"))\n",
    "\t\tfeature_result = load_json_file(os.path.join(plot_directory, v + f\"_Feature_{FEATURE_TYPE}_Result.json\"))\n",
    "\n",
    "\t\tfor class_idx in list(accuracy_result.keys()):\n",
    "\t\t\tacc_list_video_class = [clip_result['metric'][fps]['F1'] for clip_result in accuracy_result[class_idx]]\n",
    "\t\t\tfea_list_video_class = [clip_result['feature'][fps] for clip_result in feature_result[class_idx]]\n",
    "\n",
    "\t\t\tacc_list_video.extend(acc_list_video_class)\n",
    "\t\t\tfea_list_video.extend(fea_list_video_class)\n",
    "\t\t\n",
    "\t\tassert(len(acc_list_video) == len(fea_list_video))\n",
    "\n",
    "\t\tcorrelation_matrix = np.corrcoef(acc_list_video, normalize_list(fea_list_video))\n",
    "\t\tcorrelation_coefficient = correlation_matrix[0, 1]\n",
    "\n",
    "\t\tcorr_list.append(correlation_coefficient)\n",
    "\t\n",
    "\t# print(f'Corrs Among All {len(plot_video_names)} Videos {corr_list}')\n",
    "\tprint(f'Average Corr Among All {len(plot_video_names)} Videos {np.average(np.array(corr_list))}')\n"
   ]
  }
 ],
 "metadata": {
  "kernelspec": {
   "display_name": "base",
   "language": "python",
   "name": "python3"
  },
  "language_info": {
   "codemirror_mode": {
    "name": "ipython",
    "version": 3
   },
   "file_extension": ".py",
   "mimetype": "text/x-python",
   "name": "python",
   "nbconvert_exporter": "python",
   "pygments_lexer": "ipython3",
   "version": "3.10.9"
  }
 },
 "nbformat": 4,
 "nbformat_minor": 2
}
