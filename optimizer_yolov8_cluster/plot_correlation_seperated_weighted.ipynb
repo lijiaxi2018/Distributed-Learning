{
 "cells": [
  {
   "cell_type": "code",
   "execution_count": 1,
   "metadata": {},
   "outputs": [],
   "source": [
    "import json\n",
    "import matplotlib.pyplot as plt\n",
    "import numpy as np\n",
    "import os"
   ]
  },
  {
   "cell_type": "code",
   "execution_count": 2,
   "metadata": {},
   "outputs": [],
   "source": [
    "# Plot\n",
    "plot_directory = 'result/plot_set'"
   ]
  },
  {
   "cell_type": "code",
   "execution_count": 3,
   "metadata": {},
   "outputs": [],
   "source": [
    "# colors = [\n",
    "#     '#e6194B',\n",
    "#     '#f58231',\n",
    "#     '#9A6324',\n",
    "#     '#911eb4',\n",
    "#     '#3cb44b',\n",
    "#     '#f032e6',\n",
    "#     '#4363d8',\n",
    "# ]"
   ]
  },
  {
   "cell_type": "code",
   "execution_count": 4,
   "metadata": {},
   "outputs": [],
   "source": [
    "colors = [\n",
    "\t'#FF0000',\n",
    "\t'#00FFFF',\n",
    "\t'#0000FF',\n",
    "\t'#00008B',\n",
    "\t'#ADD8E6',\n",
    "\t'#800080',\n",
    "\t'#7FFFD4',\n",
    "\t'#008000',\n",
    "\t'#FF00FF',\n",
    "\t'#FFC0CB',\n",
    "\t'#C0C0C0',\n",
    "\t'#FFA500',\n",
    "\t'#000000',\n",
    "\t'#800000',\n",
    "]"
   ]
  },
  {
   "cell_type": "code",
   "execution_count": 5,
   "metadata": {},
   "outputs": [],
   "source": [
    "def load_json_file(file_path):\n",
    "\ttry:\n",
    "\t\twith open(file_path, 'r') as file:\n",
    "\t\t\tdata = json.load(file)\n",
    "\t\treturn data\n",
    "\t\n",
    "\texcept Exception as e:\n",
    "\t\tprint(f\"An error occurred while loading the JSON file: {e}\")\n",
    "\t\treturn None"
   ]
  },
  {
   "cell_type": "code",
   "execution_count": 6,
   "metadata": {},
   "outputs": [],
   "source": [
    "def extract_fpss(metric_list):\n",
    "\treturn list(metric_list[list(metric_list.keys())[0]][0]['metric'].keys())"
   ]
  },
  {
   "cell_type": "code",
   "execution_count": 7,
   "metadata": {},
   "outputs": [],
   "source": [
    "def to_accuracy_vector(accuracy_result_seq, fpss, type='F1'):\n",
    "\taccuracy_vector = []\n",
    "\tfor fps in fpss:\n",
    "\t\taccuracy_vector.append(accuracy_result_seq[fps][type])\n",
    "\t\n",
    "\treturn accuracy_vector"
   ]
  },
  {
   "cell_type": "code",
   "execution_count": 8,
   "metadata": {},
   "outputs": [],
   "source": [
    "def plot_scatter(xs, ys, x_label, y_label, title, fig_size=(8, 8)):\n",
    "\tplt.figure(figsize=fig_size)\n",
    "\tplt.scatter(xs, ys, c=colors[0], s=30, alpha=0.5)\n",
    "\tplt.title(title)\n",
    "\tplt.xlabel(x_label)\n",
    "\tplt.ylabel(y_label)\n",
    "\tplt.show()"
   ]
  },
  {
   "cell_type": "code",
   "execution_count": 9,
   "metadata": {},
   "outputs": [],
   "source": [
    "def plot_scatter_label(xs, ys, labels, x_label, y_label, title, fig_size=(8, 8)):\n",
    "\tplt.figure(figsize=fig_size)\n",
    "\tfor i in range(len(xs)):\n",
    "\t\tplt.scatter(xs[i], ys[i], c=colors[labels[i]], s=30, alpha=0.5)\n",
    "\tplt.title(title)\n",
    "\tplt.xlabel(x_label)\n",
    "\tplt.ylabel(y_label)\n",
    "\tplt.show()"
   ]
  },
  {
   "cell_type": "code",
   "execution_count": 10,
   "metadata": {},
   "outputs": [],
   "source": [
    "def filter_list_index(input_list, indices_to_remove):\n",
    "\treturn [item for i, item in enumerate(input_list) if i not in indices_to_remove]"
   ]
  },
  {
   "cell_type": "code",
   "execution_count": 11,
   "metadata": {},
   "outputs": [],
   "source": [
    "def round_float_to_sigfigs(number, sigfigs):\n",
    "\treturn round(number, sigfigs)"
   ]
  },
  {
   "cell_type": "code",
   "execution_count": 12,
   "metadata": {},
   "outputs": [],
   "source": [
    "def round_floats_to_sigfigs(input_list, sigfigs):\n",
    "\treturn [round(number, sigfigs) for number in input_list]"
   ]
  },
  {
   "cell_type": "code",
   "execution_count": 13,
   "metadata": {},
   "outputs": [],
   "source": [
    "def normalize_list(input_list):\n",
    "    # Check if the list is not empty\n",
    "    if not input_list:\n",
    "        return []\n",
    "\n",
    "    min_val = min(input_list)\n",
    "    max_val = max(input_list)\n",
    "\n",
    "    # Handle the case where all elements in the list are the same\n",
    "    if min_val == max_val:\n",
    "        return [0.5] * len(input_list)\n",
    "\n",
    "    return [(x - min_val) / (max_val - min_val) for x in input_list]\n"
   ]
  },
  {
   "cell_type": "markdown",
   "metadata": {},
   "source": [
    "## Plot"
   ]
  },
  {
   "cell_type": "code",
   "execution_count": 14,
   "metadata": {},
   "outputs": [],
   "source": [
    "omv_features = [\"Left-Top\", \"Right-Top\", \"Left-Bottom\", \"Right-Bottom\", \"Object-Amount\", \"Confidence\", \"IOU\"]"
   ]
  },
  {
   "cell_type": "code",
   "execution_count": 15,
   "metadata": {},
   "outputs": [],
   "source": [
    "plot_filenames = sorted(os.listdir(plot_directory))\n",
    "plot_video_names = sorted(list(set([f.split('_')[0] for f in plot_filenames])))"
   ]
  },
  {
   "cell_type": "code",
   "execution_count": 16,
   "metadata": {},
   "outputs": [],
   "source": [
    "fpss = extract_fpss(load_json_file(os.path.join(plot_directory, plot_video_names[0] + \"_Accuracy_Result.json\")))"
   ]
  },
  {
   "cell_type": "code",
   "execution_count": 17,
   "metadata": {},
   "outputs": [],
   "source": [
    "omv_videos = []\n",
    "acc_videos = []\n",
    "\n",
    "for v in plot_video_names:\n",
    "\tomv_dict = {}\n",
    "\tfor fps in fpss:\n",
    "\t\tomv_dict[fps] = []\n",
    "\tacc_list = []\n",
    "\n",
    "\taccuracy_result = load_json_file(os.path.join(plot_directory, v + \"_Accuracy_Result.json\"))\n",
    "\tmovement_result = load_json_file(os.path.join(plot_directory, v + \"_Movement_Result.json\"))\n",
    "\n",
    "\tfor class_idx in list(accuracy_result.keys()):\n",
    "\t\tfor i in range(len(accuracy_result[class_idx])):\n",
    "\t\t\taccuracy_vector = to_accuracy_vector(accuracy_result[class_idx][i]['metric'], fpss)\n",
    "\t\t\tacc_list.append(accuracy_vector)\n",
    "\n",
    "\t\t\tfor fps in fpss:\n",
    "\t\t\t\tmovement_vector = movement_result[class_idx][i]['movement'][fps]\n",
    "\t\t\t\tomv_dict[fps].append(movement_vector)\n",
    "\t\n",
    "\tomv_videos.append(omv_dict)\n",
    "\tacc_videos.append(acc_list)"
   ]
  },
  {
   "cell_type": "code",
   "execution_count": 18,
   "metadata": {},
   "outputs": [],
   "source": [
    "def iterate_combinations_7vars(total_sum=10):\n",
    "    combinations = []\n",
    "    for x1 in range(total_sum + 1):\n",
    "        for x2 in range(total_sum - x1 + 1):\n",
    "            for x3 in range(total_sum - x1 - x2 + 1):\n",
    "                for x4 in range(total_sum - x1 - x2 - x3 + 1):\n",
    "                    for x5 in range(total_sum - x1 - x2 - x3 - x4 + 1):\n",
    "                        for x6 in range(total_sum - x1 - x2 - x3 - x4 - x5 + 1):\n",
    "                            x7 = total_sum - x1 - x2 - x3 - x4 - x5 - x6\n",
    "                            combinations.append((x1, x2, x3, x4, x5, x6, x7))\n",
    "    return combinations"
   ]
  },
  {
   "cell_type": "code",
   "execution_count": 19,
   "metadata": {},
   "outputs": [],
   "source": [
    "combinations = iterate_combinations_7vars(10)"
   ]
  },
  {
   "cell_type": "code",
   "execution_count": 20,
   "metadata": {},
   "outputs": [
    {
     "name": "stdout",
     "output_type": "stream",
     "text": [
      "FPS: 1\n",
      "Average Coefficient: 0.5993\n",
      "Coefficients for Each Video: [0.6458, 0.5082, 0.6463, 0.5968]\n",
      "Weight: (0, 0, 0, 0, 5, 2, 3)\n",
      "\n",
      "FPS: 2\n",
      "Average Coefficient: 0.5693\n",
      "Coefficients for Each Video: [0.6487, 0.4686, 0.6196, 0.5403]\n",
      "Weight: (0, 0, 0, 0, 5, 3, 2)\n",
      "\n",
      "FPS: 3\n",
      "Average Coefficient: 0.5611\n",
      "Coefficients for Each Video: [0.6307, 0.4901, 0.5962, 0.5276]\n",
      "Weight: (0, 0, 0, 0, 4, 4, 2)\n",
      "\n",
      "FPS: 5\n",
      "Average Coefficient: 0.552\n",
      "Coefficients for Each Video: [0.6226, 0.442, 0.5542, 0.5892]\n",
      "Weight: (0, 0, 0, 0, 3, 5, 2)\n",
      "\n",
      "FPS: 6\n",
      "Average Coefficient: 0.5634\n",
      "Coefficients for Each Video: [0.6782, 0.4722, 0.5187, 0.5844]\n",
      "Weight: (0, 0, 0, 0, 2, 5, 3)\n",
      "\n",
      "FPS: 10\n",
      "Average Coefficient: 0.5237\n",
      "Coefficients for Each Video: [0.6315, 0.4519, 0.4569, 0.5545]\n",
      "Weight: (1, 0, 0, 0, 2, 5, 2)\n",
      "\n",
      "FPS: 15\n",
      "Average Coefficient: 0.5027\n",
      "Coefficients for Each Video: [0.6365, 0.4299, 0.3708, 0.5737]\n",
      "Weight: (1, 0, 0, 0, 2, 6, 1)\n",
      "\n",
      "FPS: 30\n",
      "Average Coefficient: 0.511\n",
      "Coefficients for Each Video: [0.6876, 0.4393, 0.3299, 0.5871]\n",
      "Weight: (1, 0, 0, 0, 1, 7, 1)\n",
      "\n"
     ]
    }
   ],
   "source": [
    "for k in range(len(fpss)):\n",
    "\tfps = fpss[k]\n",
    "\tprint(f\"FPS: {fps}\")\n",
    "\n",
    "\tbest_average = -1.\n",
    "\tbest_corr = None\n",
    "\tbest_combination = None\n",
    "\t\n",
    "\tfor combination in combinations:\n",
    "\t\tvideo_results = []\n",
    "\t\tfor i in range(len(plot_video_names)):\n",
    "\t\t\tomv_fps_f0 = list(np.array(omv_videos[i][fps])[:, 0])\n",
    "\t\t\toutlier_index = [l for l in range(len(omv_fps_f0)) if omv_fps_f0[l] == -1]\n",
    "\t\t\tomv_fps_f0_clean = filter_list_index(omv_fps_f0, outlier_index)\n",
    "\n",
    "\t\t\tomv_weight_sum = combination[0] * np.array(normalize_list(omv_fps_f0_clean))\n",
    "\t\t\tfor j in range(1, len(combination)):\n",
    "\t\t\t\tomv_fps = list(np.array(omv_videos[i][fps])[:, j])\n",
    "\t\t\t\tomv_fps_clean = filter_list_index(omv_fps, outlier_index)\n",
    "\n",
    "\t\t\t\tomv_weight_sum += combination[j] * np.array(normalize_list(omv_fps_clean))\n",
    "\t\t\t\n",
    "\t\t\tacc_fps = list(np.array(acc_videos[i])[:, k])\n",
    "\t\t\tacc_fps_clean = filter_list_index(acc_fps, outlier_index)\n",
    "\t\t\t\n",
    "\t\t\tcorrelation_matrix = np.corrcoef(omv_weight_sum, acc_fps_clean)\n",
    "\t\t\tcorrelation_coefficient = correlation_matrix[0, 1]\n",
    "\n",
    "\t\t\tvideo_results.append(correlation_coefficient)\n",
    "\t\t\n",
    "\t\tcombination_average_corr = np.average(np.array(video_results))\n",
    "\t\tif combination_average_corr > best_average:\n",
    "\t\t\tbest_average = combination_average_corr\n",
    "\t\t\tbest_corr = video_results\n",
    "\t\t\tbest_combination = combination\n",
    "\tprint(f\"Average Coefficient: {round_float_to_sigfigs(best_average, 4)}\")\n",
    "\tprint(f\"Coefficients for Each Video: {round_floats_to_sigfigs(best_corr, 4)}\")\n",
    "\tprint(f\"Weight: {best_combination}\")\n",
    "\tprint(\"\")"
   ]
  },
  {
   "cell_type": "code",
   "execution_count": 28,
   "metadata": {},
   "outputs": [],
   "source": [
    "def iterate_all_4vars(ss=5):\n",
    "    combinations = []\n",
    "    for x1 in range(-ss, ss+1):\n",
    "        for x2 in range(-ss, ss+1):\n",
    "            for x3 in range(-ss, ss+1):\n",
    "                for x4 in range(-ss, ss+1):\n",
    "                            combinations.append((x1, x2, x3, x4))\n",
    "    return combinations"
   ]
  },
  {
   "cell_type": "code",
   "execution_count": 29,
   "metadata": {},
   "outputs": [],
   "source": [
    "combinations_v4 = iterate_all_4vars(5)\n",
    "skipped_features = 3"
   ]
  },
  {
   "cell_type": "code",
   "execution_count": 30,
   "metadata": {},
   "outputs": [
    {
     "name": "stdout",
     "output_type": "stream",
     "text": [
      "FPS: 1\n"
     ]
    },
    {
     "name": "stderr",
     "output_type": "stream",
     "text": [
      "/Users/jiaxili/opt/anaconda3/lib/python3.8/site-packages/numpy/lib/function_base.py:2829: RuntimeWarning: invalid value encountered in true_divide\n",
      "  c /= stddev[:, None]\n",
      "/Users/jiaxili/opt/anaconda3/lib/python3.8/site-packages/numpy/lib/function_base.py:2830: RuntimeWarning: invalid value encountered in true_divide\n",
      "  c /= stddev[None, :]\n"
     ]
    },
    {
     "name": "stdout",
     "output_type": "stream",
     "text": [
      "Average Coefficient: 0.6148\n",
      "Coefficients for Each Video: [0.6589, 0.5072, 0.6545, 0.6386]\n",
      "Weight: (-1, 4, 2, 3)\n",
      "\n",
      "FPS: 2\n",
      "Average Coefficient: 0.5795\n",
      "Coefficients for Each Video: [0.6604, 0.4613, 0.6324, 0.5638]\n",
      "Weight: (-1, 5, 3, 3)\n",
      "\n",
      "FPS: 3\n",
      "Average Coefficient: 0.5848\n",
      "Coefficients for Each Video: [0.6224, 0.498, 0.6112, 0.6075]\n",
      "Weight: (-2, 5, 5, 2)\n",
      "\n",
      "FPS: 5\n",
      "Average Coefficient: 0.5546\n",
      "Coefficients for Each Video: [0.6308, 0.4448, 0.5704, 0.5724]\n",
      "Weight: (0, 3, 5, 3)\n",
      "\n",
      "FPS: 6\n",
      "Average Coefficient: 0.5688\n",
      "Coefficients for Each Video: [0.6612, 0.4897, 0.5355, 0.5888]\n",
      "Weight: (0, 1, 2, 1)\n",
      "\n",
      "FPS: 10\n",
      "Average Coefficient: 0.5237\n",
      "Coefficients for Each Video: [0.6315, 0.4519, 0.4569, 0.5545]\n",
      "Weight: (1, 2, 5, 2)\n",
      "\n",
      "FPS: 15\n",
      "Average Coefficient: 0.5058\n",
      "Coefficients for Each Video: [0.6771, 0.419, 0.34, 0.5871]\n",
      "Weight: (1, 1, 5, 1)\n",
      "\n",
      "FPS: 30\n",
      "Average Coefficient: 0.5096\n",
      "Coefficients for Each Video: [0.6841, 0.4352, 0.3454, 0.5735]\n",
      "Weight: (1, 1, 5, 1)\n",
      "\n"
     ]
    }
   ],
   "source": [
    "for k in range(len(fpss)):\n",
    "\tfps = fpss[k]\n",
    "\tprint(f\"FPS: {fps}\")\n",
    "\n",
    "\tbest_average = -1.\n",
    "\tbest_corr = None\n",
    "\tbest_combination = None\n",
    "\t\n",
    "\tfor combination in combinations_v4:\n",
    "\t\tvideo_results = []\n",
    "\t\tfor i in range(len(plot_video_names)):\n",
    "\t\t\tomv_fps_f0 = list(np.array(omv_videos[i][fps])[:, 0])\n",
    "\t\t\toutlier_index = [l for l in range(len(omv_fps_f0)) if omv_fps_f0[l] == -1]\n",
    "\t\t\tomv_fps_f0_clean = filter_list_index(omv_fps_f0, outlier_index)\n",
    "\n",
    "\t\t\tomv_weight_sum = combination[0] * np.array(normalize_list(omv_fps_f0_clean))\n",
    "\t\t\tfor j in range(1, len(combination)):\n",
    "\t\t\t\tomv_fps = list(np.array(omv_videos[i][fps])[:, j + skipped_features])\n",
    "\t\t\t\tomv_fps_clean = filter_list_index(omv_fps, outlier_index)\n",
    "\n",
    "\t\t\t\tomv_weight_sum += combination[j] * np.array(normalize_list(omv_fps_clean))\n",
    "\t\t\t\n",
    "\t\t\tacc_fps = list(np.array(acc_videos[i])[:, k])\n",
    "\t\t\tacc_fps_clean = filter_list_index(acc_fps, outlier_index)\n",
    "\t\t\t\n",
    "\t\t\tcorrelation_matrix = np.corrcoef(omv_weight_sum, acc_fps_clean)\n",
    "\t\t\tcorrelation_coefficient = correlation_matrix[0, 1]\n",
    "\n",
    "\t\t\tvideo_results.append(correlation_coefficient)\n",
    "\t\t\n",
    "\t\tcombination_average_corr = np.average(np.array(video_results))\n",
    "\t\tif combination_average_corr > best_average:\n",
    "\t\t\tbest_average = combination_average_corr\n",
    "\t\t\tbest_corr = video_results\n",
    "\t\t\tbest_combination = combination\n",
    "\tprint(f\"Average Coefficient: {round_float_to_sigfigs(best_average, 4)}\")\n",
    "\tprint(f\"Coefficients for Each Video: {round_floats_to_sigfigs(best_corr, 4)}\")\n",
    "\tprint(f\"Weight: {best_combination}\")\n",
    "\tprint(\"\")"
   ]
  }
 ],
 "metadata": {
  "kernelspec": {
   "display_name": "YOLOv8",
   "language": "python",
   "name": "python3"
  },
  "language_info": {
   "codemirror_mode": {
    "name": "ipython",
    "version": 3
   },
   "file_extension": ".py",
   "mimetype": "text/x-python",
   "name": "python",
   "nbconvert_exporter": "python",
   "pygments_lexer": "ipython3",
   "version": "3.8.8"
  }
 },
 "nbformat": 4,
 "nbformat_minor": 2
}
