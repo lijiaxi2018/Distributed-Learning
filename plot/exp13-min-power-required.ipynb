{
 "cells": [
  {
   "cell_type": "code",
   "execution_count": 25,
   "metadata": {},
   "outputs": [],
   "source": [
    "import json"
   ]
  },
  {
   "cell_type": "code",
   "execution_count": 26,
   "metadata": {},
   "outputs": [],
   "source": [
    "def load_json(filepath):\n",
    "\twith open(filepath, 'r') as file:\n",
    "\t\tdata = json.load(file)\n",
    "\t\n",
    "\treturn data"
   ]
  },
  {
   "cell_type": "code",
   "execution_count": 27,
   "metadata": {},
   "outputs": [],
   "source": [
    "def min_power_required_for_throughput(target_throughput, off_throughput, off_power):\n",
    "\tfor i in range(len(off_throughput)):\n",
    "\t\tif off_throughput[i] >= target_throughput:\n",
    "\t\t\treturn off_power[i]\n",
    "\t\n",
    "\treturn -1"
   ]
  },
  {
   "cell_type": "code",
   "execution_count": 28,
   "metadata": {},
   "outputs": [],
   "source": [
    "optimal_frequency_frontier = load_json(('../assets/result/energy/Optimal-Frequency-Frontier-960.json'))\n",
    "off_throughput = optimal_frequency_frontier['throughput']\n",
    "off_power = optimal_frequency_frontier['power']"
   ]
  },
  {
   "cell_type": "markdown",
   "metadata": {},
   "source": [
    "### Experiment"
   ]
  },
  {
   "cell_type": "code",
   "execution_count": 45,
   "metadata": {},
   "outputs": [
    {
     "data": {
      "text/plain": [
       "6.5628795360438605"
      ]
     },
     "execution_count": 45,
     "metadata": {},
     "output_type": "execute_result"
    }
   ],
   "source": [
    "min_power_required_for_throughput(15.91, off_throughput, off_power)"
   ]
  }
 ],
 "metadata": {
  "kernelspec": {
   "display_name": "base",
   "language": "python",
   "name": "python3"
  },
  "language_info": {
   "codemirror_mode": {
    "name": "ipython",
    "version": 3
   },
   "file_extension": ".py",
   "mimetype": "text/x-python",
   "name": "python",
   "nbconvert_exporter": "python",
   "pygments_lexer": "ipython3",
   "version": "3.8.8"
  }
 },
 "nbformat": 4,
 "nbformat_minor": 2
}
