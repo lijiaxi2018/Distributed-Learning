{
 "cells": [
  {
   "cell_type": "code",
   "execution_count": 31,
   "metadata": {},
   "outputs": [],
   "source": [
    "import json\n",
    "import matplotlib.pyplot as plt\n",
    "import numpy as np"
   ]
  },
  {
   "cell_type": "code",
   "execution_count": 32,
   "metadata": {},
   "outputs": [],
   "source": [
    "ORIGINAL_FPS = 30\n",
    "MANUAL_FPSS = ['3', '5', '10', '15', '30']\n",
    "USE_MANUAL_FPSS = True\n",
    "THRESHOLD = 0.75\n",
    "\n",
    "INTERVAL = 15\n",
    "EXPENSIVE_FPS = 30\n",
    "CLASS_INDEXES = ['2']"
   ]
  },
  {
   "cell_type": "code",
   "execution_count": 33,
   "metadata": {},
   "outputs": [],
   "source": [
    "result_dict_paths = [\n",
    "    '../assets/result/accuracy/Video1_Result.json',\n",
    "    '../assets/result/accuracy/Video2_Result.json',\n",
    "    '../assets/result/accuracy/Video3_Result.json',\n",
    "    '../assets/result/accuracy/Video4_Result.json',\n",
    "]"
   ]
  },
  {
   "cell_type": "code",
   "execution_count": 34,
   "metadata": {},
   "outputs": [],
   "source": [
    "def load_json(filepath):\n",
    "    with open(filepath, 'r') as file:\n",
    "        data = json.load(file)\n",
    "    \n",
    "    return data"
   ]
  },
  {
   "cell_type": "code",
   "execution_count": 35,
   "metadata": {},
   "outputs": [],
   "source": [
    "FPS_ENERGY_DICT = load_json('../assets/result/energy/Dict-Per-Real-Second-960x480.json')"
   ]
  },
  {
   "cell_type": "code",
   "execution_count": 36,
   "metadata": {},
   "outputs": [],
   "source": [
    "def extract_fpss(metric_list):\n",
    "\t  return list(metric_list[list(metric_list.keys())[0]][0]['metric'].keys())"
   ]
  },
  {
   "cell_type": "code",
   "execution_count": 37,
   "metadata": {},
   "outputs": [],
   "source": [
    "def extract_frame_count(metric_list):\n",
    "    return [clip_metric['frame_count'] for clip_metric in metric_list]"
   ]
  },
  {
   "cell_type": "code",
   "execution_count": 38,
   "metadata": {},
   "outputs": [],
   "source": [
    "def extract_metric_list(metric_list, fpss, feature='F1', use_MANUAL_FPSS=False):\n",
    "    if use_MANUAL_FPSS:\n",
    "        fpss = MANUAL_FPSS\n",
    "    else:\n",
    "        fpss = fpss\n",
    "\n",
    "    result_column = {}\n",
    "    \n",
    "    for fps in fpss: \n",
    "        result_column[fps] = [clip_metric['metric'][fps][feature] for clip_metric in metric_list]\n",
    "    \n",
    "    return result_column"
   ]
  },
  {
   "cell_type": "code",
   "execution_count": 39,
   "metadata": {},
   "outputs": [],
   "source": [
    "def extract_accuracy_list_based_on_fps_list(metric_list, fps_list, feature='F1'):\n",
    "    result_list = []\n",
    "    \n",
    "    for i in range(len(fps_list)):\n",
    "        result_list.append(metric_list[i]['metric'][fps_list[i]][feature])\n",
    "    \n",
    "    return result_list"
   ]
  },
  {
   "cell_type": "code",
   "execution_count": 40,
   "metadata": {},
   "outputs": [],
   "source": [
    "def find_max_index(string_list):\n",
    "\t\t# Convert each element to integer\n",
    "\t\tint_list = [int(element) for element in string_list]\n",
    "\t\t\n",
    "\t\t# Find index of maximum integer value\n",
    "\t\tmax_index, max_value = max(enumerate(int_list), key=lambda x: x[1])\n",
    "\t\t\n",
    "\t\treturn max_value\n",
    "\n",
    "def extract_cheapest_fps(accuracy_dict, fpss, threshold=0.75, use_MANUAL_FPSS=False):\n",
    "    if use_MANUAL_FPSS:\n",
    "        fpss = MANUAL_FPSS\n",
    "    else:\n",
    "        fpss = fpss\n",
    "          \n",
    "    max_fps = find_max_index(fpss)\n",
    "    \n",
    "    cheapest_fpss = []\n",
    "    for i in range(len(accuracy_dict[fpss[0]])):\n",
    "        curr_fps = max_fps\n",
    "        for fps in fpss:\n",
    "          if accuracy_dict[fps][i] >= threshold and int(fps) < int(curr_fps):\n",
    "            curr_fps = fps\n",
    "        \n",
    "        cheapest_fpss.append(int(curr_fps))\n",
    "    \n",
    "    return cheapest_fpss"
   ]
  },
  {
   "cell_type": "code",
   "execution_count": 41,
   "metadata": {},
   "outputs": [],
   "source": [
    "def calculate_energy(fps_list, energy_dict, interval):\n",
    "    total_energy = 0\n",
    "    \n",
    "    for fps in fps_list:\n",
    "        if fps in energy_dict.keys():\n",
    "            total_energy += interval * energy_dict[fps]\n",
    "        else: # !!!NEED MODIFICATION!!!\n",
    "            total_energy += interval * energy_dict[list(energy_dict.keys())[-1]]\n",
    "    \n",
    "    return total_energy"
   ]
  },
  {
   "cell_type": "code",
   "execution_count": 42,
   "metadata": {},
   "outputs": [],
   "source": [
    "# result_dict = load_json(result_dict_paths[2])\n",
    "\n",
    "# fpss = extract_fpss(result_dict)\n",
    "# accuracy = extract_metric_list(result_dict['2'], fpss, 'F1', USE_MANUAL_FPSS)\n",
    "# total_frame_count = np.sum(np.array(extract_frame_count(result_dict['2'])))\n",
    "\n",
    "# cheapest_fps_list = extract_cheapest_fps(accuracy, fpss, THRESHOLD, USE_MANUAL_FPSS)\n",
    "# cheapest_fps_list = [str(fps) for fps in cheapest_fps_list]\n",
    "# expensive_fps_list = [str(EXPENSIVE_FPS) for i in range(len(cheapest_fps_list))]\n",
    "\n",
    "# cheapest_energy = calculate_energy(cheapest_fps_list, FPS_ENERGY_DICT, INTERVAL) / total_frame_count\n",
    "# expensive_energy = calculate_energy(expensive_fps_list, FPS_ENERGY_DICT, INTERVAL) / total_frame_count\n",
    "\n",
    "# cheapest_average_accuracy = np.average(np.array(extract_accuracy_list_based_on_fps_list(result_dict['2'], cheapest_fps_list)))\n",
    "# expensive_average_accuracy = np.average(np.array(extract_accuracy_list_based_on_fps_list(result_dict['2'], expensive_fps_list)))"
   ]
  },
  {
   "cell_type": "code",
   "execution_count": 43,
   "metadata": {},
   "outputs": [],
   "source": [
    "def result_for_one_video(video_path, class_idx):\n",
    "    result_dict = load_json(video_path)\n",
    "\n",
    "    fpss = extract_fpss(result_dict)\n",
    "    accuracy = extract_metric_list(result_dict[class_idx], fpss, 'F1', USE_MANUAL_FPSS)\n",
    "    total_frame_count = np.sum(np.array(extract_frame_count(result_dict[class_idx])))\n",
    "\n",
    "    cheapest_fps_list = extract_cheapest_fps(accuracy, fpss, THRESHOLD, USE_MANUAL_FPSS)\n",
    "    cheapest_fps_list = [str(fps) for fps in cheapest_fps_list]\n",
    "    expensive_fps_list = [str(EXPENSIVE_FPS) for i in range(len(cheapest_fps_list))]\n",
    "\n",
    "    cheapest_energy = calculate_energy(cheapest_fps_list, FPS_ENERGY_DICT, INTERVAL) / total_frame_count * ORIGINAL_FPS\n",
    "    expensive_energy = calculate_energy(expensive_fps_list, FPS_ENERGY_DICT, INTERVAL) / total_frame_count * ORIGINAL_FPS\n",
    "\n",
    "    cheapest_average_accuracy = np.average(np.array(extract_accuracy_list_based_on_fps_list(result_dict[class_idx], cheapest_fps_list)))\n",
    "    expensive_average_accuracy = np.average(np.array(extract_accuracy_list_based_on_fps_list(result_dict[class_idx], expensive_fps_list)))\n",
    "\n",
    "    return (cheapest_energy, cheapest_average_accuracy), (expensive_energy, expensive_average_accuracy)"
   ]
  },
  {
   "cell_type": "code",
   "execution_count": 44,
   "metadata": {},
   "outputs": [],
   "source": [
    "def plot_one_class_idx(class_idx, x_label, y_label, title, line_y = 0.75, label_size=28, font_size=32, legend_size=24, line_width=4, point_size=120):\n",
    "    MARKERS = ['o', 'x', '+', '^']\n",
    "\n",
    "    plt.figure(figsize=(8, 8))\n",
    "\n",
    "    for i in range(len(result_dict_paths)):\n",
    "        result_dict_path = result_dict_paths[i]\n",
    "        (x1, y1), (x2, y2) = result_for_one_video(result_dict_path, class_idx)\n",
    "        plt.scatter(x1, y1, color='red', marker=MARKERS[i], s=point_size)\n",
    "        plt.scatter(x2, y2, color='blue', marker=MARKERS[i], s=point_size)\n",
    "    \n",
    "    plt.axhline(y=line_y, color='grey', linestyle='--', linewidth=line_width, label=\"Required Accuracy\")\n",
    "\n",
    "    # plt.title(title, fontsize=font_size)\n",
    "    plt.xlabel(x_label, fontsize=font_size)\n",
    "    plt.ylabel(y_label, fontsize=font_size)\n",
    "    plt.xticks(fontsize=label_size)\n",
    "    plt.yticks(fontsize=label_size)\n",
    "    plt.xlim(3, 12)  # Set the x-axis to run from 0 to 6\n",
    "    plt.ylim(0.73, 0.87) # Set the y-axis to run from 0 to 30\n",
    "    plt.legend(fontsize=legend_size)\n",
    "    plt.grid(True)\n",
    "\n",
    "    plt.show()"
   ]
  },
  {
   "cell_type": "code",
   "execution_count": 45,
   "metadata": {},
   "outputs": [
    {
     "data": {
      "image/png": "[encoded data removed]",
      "text/plain": [
       "<Figure size 576x576 with 1 Axes>"
      ]
     },
     "metadata": {
      "needs_background": "light"
     },
     "output_type": "display_data"
    }
   ],
   "source": [
    "for class_idx in CLASS_INDEXES:\n",
    "    plot_one_class_idx('2', 'Average Power (W)', 'Accuracy (F1)', 'Accuracy vs Energy Consumption', THRESHOLD)"
   ]
  }
 ],
 "metadata": {
  "kernelspec": {
   "display_name": "base",
   "language": "python",
   "name": "python3"
  },
  "language_info": {
   "codemirror_mode": {
    "name": "ipython",
    "version": 3
   },
   "file_extension": ".py",
   "mimetype": "text/x-python",
   "name": "python",
   "nbconvert_exporter": "python",
   "pygments_lexer": "ipython3",
   "version": "3.8.8"
  }
 },
 "nbformat": 4,
 "nbformat_minor": 2
}
