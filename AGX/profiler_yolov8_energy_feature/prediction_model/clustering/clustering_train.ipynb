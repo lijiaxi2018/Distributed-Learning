{
 "cells": [
  {
   "cell_type": "code",
   "execution_count": 1,
   "metadata": {},
   "outputs": [],
   "source": [
    "import json\n",
    "import matplotlib.pyplot as plt\n",
    "import numpy as np\n",
    "import os\n",
    "from KVClusterV2 import KVClusterV2"
   ]
  },
  {
   "cell_type": "code",
   "execution_count": 2,
   "metadata": {},
   "outputs": [],
   "source": [
    "# Train\n",
    "train_directory = '/home/jiaxi/cs525/Experiment/prediction_model/clustering/train_set'\n",
    "num_clusters = 10"
   ]
  },
  {
   "cell_type": "code",
   "execution_count": 3,
   "metadata": {},
   "outputs": [],
   "source": [
    "colors = [\n",
    "    '#e6194B',\n",
    "    '#f58231',\n",
    "    '#9A6324',\n",
    "    '#911eb4',\n",
    "    '#3cb44b',\n",
    "    '#f032e6',\n",
    "    '#4363d8',\n",
    "]"
   ]
  },
  {
   "cell_type": "code",
   "execution_count": 4,
   "metadata": {},
   "outputs": [],
   "source": [
    "def load_json_file(file_path):\n",
    "\ttry:\n",
    "\t\twith open(file_path, 'r') as file:\n",
    "\t\t\tdata = json.load(file)\n",
    "\t\treturn data\n",
    "\t\n",
    "\texcept Exception as e:\n",
    "\t\tprint(f\"An error occurred while loading the JSON file: {e}\")\n",
    "\t\treturn None"
   ]
  },
  {
   "cell_type": "code",
   "execution_count": 5,
   "metadata": {},
   "outputs": [],
   "source": [
    "def extract_fpss(metric_list):\n",
    "\treturn list(metric_list[list(metric_list.keys())[0]][0]['metric'].keys())"
   ]
  },
  {
   "cell_type": "code",
   "execution_count": 6,
   "metadata": {},
   "outputs": [],
   "source": [
    "def to_accuracy_vector(accuracy_result_seq, fpss, type='F1'):\n",
    "    accuracy_vector = []\n",
    "    for fps in fpss:\n",
    "        accuracy_vector.append(accuracy_result_seq[fps][type])\n",
    "    \n",
    "    return accuracy_vector"
   ]
  },
  {
   "cell_type": "markdown",
   "metadata": {},
   "source": [
    "## Train"
   ]
  },
  {
   "cell_type": "code",
   "execution_count": 7,
   "metadata": {},
   "outputs": [],
   "source": [
    "train_filenames = sorted(os.listdir(train_directory))\n",
    "train_video_names = sorted(list(set([f.split('_')[0] for f in train_filenames])))"
   ]
  },
  {
   "cell_type": "code",
   "execution_count": 8,
   "metadata": {},
   "outputs": [],
   "source": [
    "fpss = extract_fpss(load_json_file(os.path.join(train_directory, train_video_names[0] + \"_Accuracy_Result.json\")))\n",
    "\n",
    "cluster = KVClusterV2(num_clusters)"
   ]
  },
  {
   "cell_type": "code",
   "execution_count": 9,
   "metadata": {},
   "outputs": [],
   "source": [
    "for v in train_video_names:\n",
    "\taccuracy_result = load_json_file(os.path.join(train_directory, v + \"_Accuracy_Result.json\"))\n",
    "\tmovement_result = load_json_file(os.path.join(train_directory, v + \"_Movement_Result.json\"))\n",
    "\n",
    "\tfor class_idx in list(accuracy_result.keys()):\n",
    "\t\tfor i in range(len(accuracy_result[class_idx])):\n",
    "\t\t\taccuracy_vector = to_accuracy_vector(accuracy_result[class_idx][i]['metric'], fpss)\n",
    "\n",
    "\t\t\tfor fps in fpss:\n",
    "\t\t\t\tmovement_vector = movement_result[class_idx][i]['movement'][fps]\n",
    "\n",
    "\t\t\t\tcluster.add(movement_vector, accuracy_vector)"
   ]
  },
  {
   "cell_type": "code",
   "execution_count": 10,
   "metadata": {},
   "outputs": [],
   "source": [
    "cluster.cluster_average()"
   ]
  },
  {
   "cell_type": "code",
   "execution_count": 11,
   "metadata": {},
   "outputs": [],
   "source": [
    "cluster.save_model('/home/jiaxi/cs525/Experiment/prediction_model/clustering/train_result.json')"
   ]
  }
 ],
 "metadata": {
  "kernelspec": {
   "display_name": "YOLOv8",
   "language": "python",
   "name": "python3"
  },
  "language_info": {
   "codemirror_mode": {
    "name": "ipython",
    "version": 3
   },
   "file_extension": ".py",
   "mimetype": "text/x-python",
   "name": "python",
   "nbconvert_exporter": "python",
   "pygments_lexer": "ipython3",
   "version": "3.10.12"
  }
 },
 "nbformat": 4,
 "nbformat_minor": 2
}
