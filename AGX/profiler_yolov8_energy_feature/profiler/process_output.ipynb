{
 "cells": [
  {
   "cell_type": "code",
   "execution_count": 358,
   "metadata": {},
   "outputs": [],
   "source": [
    "import json\n",
    "import numpy as np\n",
    "import os\n",
    "import re"
   ]
  },
  {
   "cell_type": "code",
   "execution_count": 359,
   "metadata": {},
   "outputs": [],
   "source": [
    "INPUT = 'output.txt'\n",
    "FRAME_AMOUNT = 600\n",
    "ENERGY_CONSTANT = 1000000"
   ]
  },
  {
   "cell_type": "code",
   "execution_count": 360,
   "metadata": {},
   "outputs": [],
   "source": [
    "def extract_name(file_path):\n",
    "    # Get the base name (e.g., 'name.txt')\n",
    "    base_name = os.path.basename(file_path)\n",
    "    \n",
    "    # Split the name and extension and return only the name\n",
    "    name, _ = os.path.splitext(base_name)\n",
    "    \n",
    "    return name"
   ]
  },
  {
   "cell_type": "code",
   "execution_count": 361,
   "metadata": {},
   "outputs": [],
   "source": [
    "def read_file_to_list(file_path):\n",
    "    lines = []\n",
    "    \n",
    "    try:\n",
    "        # Open the file in read mode\n",
    "        with open(file_path, 'r') as file:\n",
    "            # Read each line and strip any trailing newlines or spaces\n",
    "            lines = [line.strip() for line in file]\n",
    "    except FileNotFoundError:\n",
    "        print(f\"File not found: {file_path}\")\n",
    "    except Exception as e:\n",
    "        print(f\"An error occurred: {e}\")\n",
    "    \n",
    "    return lines"
   ]
  },
  {
   "cell_type": "code",
   "execution_count": 362,
   "metadata": {},
   "outputs": [],
   "source": [
    "def filter_strings_by_prefix(string_list, prefix):\n",
    "    # Filter the list based on whether each string starts with the given prefix\n",
    "    result = [s for s in string_list if s.startswith(prefix)]\n",
    "    return result"
   ]
  },
  {
   "cell_type": "code",
   "execution_count": 363,
   "metadata": {},
   "outputs": [],
   "source": [
    "def extract_hardware_values(input_string):\n",
    "    # Regular expression to match CPU, GPU, and EMC followed by a number\n",
    "    pattern = r'CPU:\\s*(\\d+)\\s*GPU:\\s*(\\d+)\\s*EMC:\\s*(\\d+)'\n",
    "    \n",
    "    # Use regular expression to find the numbers\n",
    "    match = re.search(pattern, input_string)\n",
    "    \n",
    "    if match:\n",
    "        cpu_value = int(match.group(1))\n",
    "        gpu_value = int(match.group(2))\n",
    "        emc_value = int(match.group(3))\n",
    "        return cpu_value, gpu_value, emc_value\n",
    "    else:\n",
    "        return None  # Return None if the pattern is not found"
   ]
  },
  {
   "cell_type": "code",
   "execution_count": 364,
   "metadata": {},
   "outputs": [],
   "source": [
    "def extract_timings(input_string):\n",
    "    # Regular expression to match the float numbers followed by 'ms'\n",
    "    pattern = r'([\\d\\.]+)ms'\n",
    "\n",
    "    # Use regular expression to find all the numbers followed by 'ms'\n",
    "    matches = re.findall(pattern, input_string)\n",
    "    \n",
    "    # Convert the matches to float\n",
    "    timings = [float(match) for match in matches]\n",
    "    \n",
    "    return timings"
   ]
  },
  {
   "cell_type": "code",
   "execution_count": 365,
   "metadata": {},
   "outputs": [],
   "source": [
    "def extract_latency(input_string):\n",
    "    # Regular expression to match a floating-point number\n",
    "    pattern = r'Latency:\\s*([\\d\\.]+)'\n",
    "    \n",
    "    # Use re.search to find the number after 'Latency:'\n",
    "    match = re.search(pattern, input_string)\n",
    "    \n",
    "    if match:\n",
    "        # Convert the matched value to a float\n",
    "        latency = float(match.group(1))\n",
    "        return latency\n",
    "    else:\n",
    "        return None  # Return None if no match is found"
   ]
  },
  {
   "cell_type": "code",
   "execution_count": 366,
   "metadata": {},
   "outputs": [],
   "source": [
    "def extract_gpu_energy(input_string):\n",
    "    # Regular expression to match a floating-point number\n",
    "    pattern = r'GPU Energy Consumption:\\s*([\\d\\.]+)'\n",
    "    \n",
    "    # Use re.search to find the number after 'Latency:'\n",
    "    match = re.search(pattern, input_string)\n",
    "    \n",
    "    if match:\n",
    "        # Convert the matched value to a float\n",
    "        energy = float(match.group(1))\n",
    "        return energy\n",
    "    else:\n",
    "        return None  # Return None if no match is found"
   ]
  },
  {
   "cell_type": "code",
   "execution_count": 367,
   "metadata": {},
   "outputs": [],
   "source": [
    "def extract_cpu_energy(input_string):\n",
    "    # Regular expression to match a floating-point number\n",
    "    pattern = r'CPU Energy Consumption:\\s*([\\d\\.]+)'\n",
    "    \n",
    "    # Use re.search to find the number after 'Latency:'\n",
    "    match = re.search(pattern, input_string)\n",
    "    \n",
    "    if match:\n",
    "        # Convert the matched value to a float\n",
    "        energy = float(match.group(1))\n",
    "        return energy\n",
    "    else:\n",
    "        return None  # Return None if no match is found"
   ]
  },
  {
   "cell_type": "code",
   "execution_count": 368,
   "metadata": {},
   "outputs": [],
   "source": [
    "def extract_eme_energy(input_string):\n",
    "    # Regular expression to match a floating-point number\n",
    "    pattern = r'Memory Energy Consumption:\\s*([\\d\\.]+)'\n",
    "    \n",
    "    # Use re.search to find the number after 'Latency:'\n",
    "    match = re.search(pattern, input_string)\n",
    "    \n",
    "    if match:\n",
    "        # Convert the matched value to a float\n",
    "        energy = float(match.group(1))\n",
    "        return energy\n",
    "    else:\n",
    "        return None  # Return None if no match is found"
   ]
  },
  {
   "cell_type": "code",
   "execution_count": 369,
   "metadata": {},
   "outputs": [],
   "source": [
    "lines = read_file_to_list(INPUT)\n",
    "y_lines = filter_strings_by_prefix(lines, \"Y\")\n",
    "speed_lines = filter_strings_by_prefix(lines, \"Speed\")\n",
    "latency_lines = filter_strings_by_prefix(lines, \"Latency\")\n",
    "cpu_lines = filter_strings_by_prefix(lines, \"CPU\")\n",
    "gpu_lines = filter_strings_by_prefix(lines, \"GPU\")\n",
    "eme_lines = filter_strings_by_prefix(lines, \"Memory\")"
   ]
  },
  {
   "cell_type": "code",
   "execution_count": 370,
   "metadata": {},
   "outputs": [],
   "source": [
    "iteration = len(y_lines)\n",
    "cpu_freq, gpu_freq, emc_freq = extract_hardware_values(y_lines[0])"
   ]
  },
  {
   "cell_type": "code",
   "execution_count": 371,
   "metadata": {},
   "outputs": [],
   "source": [
    "speed_list = []\n",
    "latency_list = []\n",
    "cpu_energy_list = []\n",
    "gpu_energy_list = []\n",
    "emc_energy_list = []\n",
    "frame_rate_list = []\n",
    "\n",
    "for i in range(iteration):\n",
    "    speed_line_data = extract_timings(speed_lines[i])\n",
    "    speed_line_sum = np.sum(np.array(speed_line_data))\n",
    "    \n",
    "    speed_list.append(speed_line_sum)\n",
    "    latency_list.append(extract_latency(latency_lines[i]))\n",
    "    cpu_energy_list.append(extract_cpu_energy(cpu_lines[i]))\n",
    "    gpu_energy_list.append(extract_gpu_energy(gpu_lines[i]))\n",
    "    emc_energy_list.append(extract_eme_energy(eme_lines[i]))\n",
    "    frame_rate_list.append(FRAME_AMOUNT / extract_latency(latency_lines[i]))\n",
    "\n",
    "cpu_power_list = np.array(cpu_energy_list) / np.array(latency_list) / ENERGY_CONSTANT\n",
    "gpu_power_list = np.array(gpu_energy_list) / np.array(latency_list) / ENERGY_CONSTANT\n",
    "emc_power_list = np.array(emc_energy_list) / np.array(latency_list) / ENERGY_CONSTANT\n",
    "total_power_list = cpu_power_list + gpu_power_list + emc_power_list"
   ]
  },
  {
   "cell_type": "code",
   "execution_count": 372,
   "metadata": {},
   "outputs": [],
   "source": [
    "speed_avg = np.average(np.array(speed_list))\n",
    "speed_std = np.std(np.array(speed_list))\n",
    "\n",
    "latency_avg = np.average(np.array(latency_list))\n",
    "latency_std = np.std(np.array(latency_list))\n",
    "\n",
    "cpu_energy_avg = np.average(np.array(cpu_energy_list))\n",
    "cpu_energy_std = np.std(np.array(cpu_energy_list))\n",
    "\n",
    "gpu_energy_avg = np.average(np.array(gpu_energy_list))\n",
    "gpu_energy_std = np.std(np.array(gpu_energy_list))\n",
    "\n",
    "emc_energy_avg = np.average(np.array(emc_energy_list))\n",
    "emc_energy_std = np.std(np.array(emc_energy_list))\n",
    "\n",
    "cpu_power_avg = np.average(np.array(cpu_power_list))\n",
    "cpu_power_std = np.std(np.array(cpu_power_list))\n",
    "\n",
    "gpu_power_avg = np.average(np.array(gpu_power_list))\n",
    "gpu_power_std = np.std(np.array(gpu_power_list))\n",
    "\n",
    "emc_power_avg = np.average(np.array(emc_power_list))\n",
    "emc_power_std = np.std(np.array(emc_power_list))\n",
    "\n",
    "frame_rate_avg = np.average(np.array(frame_rate_list))\n",
    "frame_rate_std = np.std(np.array(frame_rate_list))\n",
    "\n",
    "total_power_avg = np.average(np.array(total_power_list))\n",
    "total_power_std = np.std(np.array(total_power_list))"
   ]
  },
  {
   "cell_type": "code",
   "execution_count": 373,
   "metadata": {},
   "outputs": [],
   "source": [
    "result = {}\n",
    "result['speed_avg'] = speed_avg\n",
    "result['speed_std'] = speed_std\n",
    "result['latency_avg'] = latency_avg\n",
    "result['latency_std'] = latency_std\n",
    "result['cpu_energy_avg'] = cpu_energy_avg\n",
    "result['cpu_energy_std'] = cpu_energy_std\n",
    "result['gpu_energy_avg'] = gpu_energy_avg\n",
    "result['gpu_energy_std'] = gpu_energy_std\n",
    "result['emc_energy_avg'] = emc_energy_avg\n",
    "result['emc_energy_std'] = emc_energy_std\n",
    "result['cpu_power_avg'] = cpu_power_avg\n",
    "result['cpu_power_std'] = cpu_power_std\n",
    "result['gpu_power_avg'] = gpu_power_avg\n",
    "result['gpu_power_std'] = gpu_power_std\n",
    "result['emc_power_avg'] = emc_power_avg\n",
    "result['emc_power_std'] = emc_power_std\n",
    "result['frame_rate_avg'] = frame_rate_avg\n",
    "result['frame_rate_std'] = frame_rate_std\n",
    "result['total_power_avg'] = total_power_avg\n",
    "result['total_power_std'] = total_power_std"
   ]
  },
  {
   "cell_type": "code",
   "execution_count": 374,
   "metadata": {},
   "outputs": [],
   "source": [
    "with open(f'{extract_name(INPUT)}.json', 'w') as file:\n",
    "    json.dump(result, file, indent=4)"
   ]
  }
 ],
 "metadata": {
  "kernelspec": {
   "display_name": "Python 3",
   "language": "python",
   "name": "python3"
  },
  "language_info": {
   "codemirror_mode": {
    "name": "ipython",
    "version": 3
   },
   "file_extension": ".py",
   "mimetype": "text/x-python",
   "name": "python",
   "nbconvert_exporter": "python",
   "pygments_lexer": "ipython3",
   "version": "3.10.12"
  }
 },
 "nbformat": 4,
 "nbformat_minor": 2
}
